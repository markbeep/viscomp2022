{
 "cells": [
  {
   "cell_type": "markdown",
   "metadata": {},
   "source": [
    "# Week 3: Edge Detection\n",
    "\n",
    "This python notebook includes all the exercises from this session. All the needed setup, I/O and user-interaction code is already provided to let you concentrate on this week's topic.<br>\n",
    "Please run all the provided code in order before running yours.<br>\n",
    "\n",
    "This week's assignment:\n",
    "\n",
    "## 1 Thresholded Edge Detection\n",
    "\n",
    "Implement a function that takes as input the derivative kernels and threshold and outputs the edge image of the provided test image (lighthouse.png). Then test its output with different kernels and thresholds to compare the results. As a reference we report some suggested kernels:\n",
    "\n",
    "Elementary derivative kernels:\n",
    "$$ k_x = \\left[ {\\begin{array}{cc}\n",
    "   -1 & 1 \\\\\n",
    "  \\end{array} } \\right] \n",
    "  ~~~\n",
    "   k_y = \\left[ {\\begin{array}{c}\n",
    "   -1\\\\\n",
    "   1\\\\\n",
    "  \\end{array} } \\right]$$\n",
    "\n",
    "Sobel derivative kernels: \n",
    "$$ k_x = \\left[ {\\begin{array}{ccc}\n",
    "   -1 & 0 & 1 \\\\\n",
    "   -2 & 0 & 2 \\\\\n",
    "   -1 & 0 & 1 \\\\\n",
    "  \\end{array} } \\right] \n",
    "  ~~~\n",
    "   k_y = \\left[ {\\begin{array}{ccc}\n",
    "   -1 & -2 & -1 \\\\\n",
    "   0 & 0 & 0 \\\\\n",
    "   1 & 2 & 1 \\\\\n",
    "  \\end{array} } \\right]$$\n",
    "\n",
    "Prewitt derivative kernels: \n",
    "$$ k_x = \\left[ {\\begin{array}{ccc}\n",
    "   -1 & 0 & 1 \\\\\n",
    "   -1 & 0 & 1 \\\\\n",
    "   -1 & 0 & 1 \\\\\n",
    "  \\end{array} } \\right] \n",
    "  ~~~\n",
    "   k_y = \\left[ {\\begin{array}{ccc}\n",
    "   -1 & -1 & -1 \\\\\n",
    "   0 & 0 & 0 \\\\\n",
    "   1 & 1 & 1 \\\\\n",
    "  \\end{array} } \\right]$$\n",
    "  \n",
    "  \n",
    "## 2 Canny Edge Detection\n",
    " \n",
    "Implement edge detection using the Canny method.\n",
    "\n",
    "1. Produce and show kernerls composing derivative and gaussian blur for noise reduction\n",
    "2. Produce the gradient images and show the gradient magnitude image, where each pixel contains the norm of the gradient\n",
    "3. Produce the quantized gradient direction image\n",
    "    1. Produce the gradient direction image, where each pixel contains the angle of the gradient\n",
    "    2. Produce and show the quantized gradient image, where each pixel is an integer corresponding to a gradient direction (horizontal, primary diagonal, vertical, secondary diagonal)\n",
    "4. Perform nonmaximum suppression on the gradient magnitude image for edge thinning, and show it. For each pixel, it is taken only if it is the maximum with the nearby pixels along its corresponding gradient direction.\n",
    "5. Perform hysteresis on the resulting image, and show the final result of Canny Edge Detection.\n",
    "    1. Select two thresholds $t_{high}$ and $t_{low}$\n",
    "    2. A pixel on the nonmaximum suppressed gradient image is taken if its value is higher than $t_{low}$ and there exists any path through pixels with value higher than $t_{low}$ that connects it to a pixel with value higher than $t_{high}$.\n",
    "6. Identify all the hyperparameters introduced in this exercise, play with them and understand their role. To facilitate this, in this tutorial we provide a fill-in template to change your hyperparameters with interactive sliders and visualize the output."
   ]
  },
  {
   "cell_type": "markdown",
   "metadata": {},
   "source": [
    "## Useful information for this tutorial:\n",
    "\n",
    "For basics about images as numpy arrays, please refer to the second week's tutorial.\n",
    "\n",
    "With numpy it is also possible to refer to slices of a given array by specifying the kept dimensions in the slice with `:`. For example, if we want to access the red channel of an RGB image `im` with shape `(height, width, 3)`, we can write `im[:, :, 0]`, which refers to the whole image data for the red channel only. We can optionally specify a range to be kept along a direction by writing the extreme indices around the `:` as in `min:max`. For example, accessing a patch within the pixel coordinates `(h0, w0)`, `(h1, w1)` with h0 < h1 and w0 < w1 can be done with `im[h0:h1, w0:w1, :]`.<br>\n",
    "You can also index arrays based on conditions: for example to set to black all pixels with a blue component higher than 200 you can write `im[im[:, :, 2] > 200] = 0`.<br>\n",
    "These references can be used both for reading an image slice and for writing a whole slice at once, without looping over it. <br>\n",
    "A complete reference of numpy basic and advanced indexing rules (not necessary for this tutorial, but very useful for numpy python programming) can be found in https://numpy.org/devdocs/user/basics.indexing.html\n",
    "\n",
    "When doing operations between numpy arrays, all operations are executed element-wise (except for the `@` operator that performs the usual matrix multiplication). This requires the shapes (dimensions) of the involved arrays to match or to be compatible according to broadcasting rules, which are usually intuitive. An example of broadcasting is when adding a pixel value `p=np.array([70, 128, 255])` to an image `im` with shape `(height, width, 3)`: the operation is legal and the pixel value is added independently to each pixel in the image. <br>\n",
    "A complete reference of numpy broadcasting rules (not necessary for this tutorial, but very useful for numpy python programming) can be found in https://docs.scipy.org/doc/numpy/user/basics.broadcasting.html . \n",
    "\n",
    "In the following we list some useful functions.\n",
    "\n",
    "Array initialization:<br>\n",
    "`np.array(a, dtype)`: returns a copy of `a` as a numpy array. Argument `a` does not need to be a numpy array, it can be any array-like object, e.g. a python list. It is possible to specify a `dtype` argument in case we want to change the type of the original array in the returned copy. https://docs.scipy.org/doc/numpy/reference/generated/numpy.array.html<br>\n",
    "`np.empty(shape, dtype)`: returns a new empty array with specified shape `shape` and the specified data type `dtype`. For this tutorial we suggest using as dtype `np.int16` for images and default for the rest. https://docs.scipy.org/doc/numpy/reference/generated/numpy.empty.html<br>\n",
    "`np.ones(shape, dtype)`: returns a new array filled with ones with specified shape `shape` and the specified data type `dtype`. For this tutorial we suggest using as dtype `np.int16` for images and default for the rest. https://docs.scipy.org/doc/numpy/reference/generated/numpy.ones.html<br>\n",
    "`np.zeros(shape, dtype)`: returns a new array filled with zeros with specified shape `shape` and the specified data type `dtype`. For this tutorial we suggest using as dtype `np.int16` for images and default for the rest. https://docs.scipy.org/doc/numpy/reference/generated/numpy.zeros.html<br>\n",
    "`np.eye(N)` : builds the identity matrix of order `N`. https://docs.scipy.org/doc/numpy/reference/generated/numpy.eye.html<br>\n",
    "\n",
    "Array shape management:<br>\n",
    "`np.reshape(a, newshape)`: returns a reshaped view of the input array `a` having shape `newshape`, which should be specified as a tuple of integers. https://docs.scipy.org/doc/numpy/reference/generated/numpy.reshape.html<br>\n",
    "`np.transpose(a)`: returns the transposed of array `a`, whose shape has reversed order with respect to `a`. Alias `a.T`. https://docs.scipy.org/doc/numpy/reference/generated/numpy.transpose.html<br>\n",
    "`np.expand_dims(a, axis)`: returns the same array `a` with a new dimension of size one along the specified `axis`. You can use `np.newaxis` when slice-indexing `a` for the same result. https://docs.scipy.org/doc/numpy/reference/generated/numpy.expand_dims.html<br>\n",
    "\n",
    "Array reductors:<br>\n",
    "`np.linalg.norm(x)`: returns the L2 norm of array `x`. You can also specify a keyword argument `axis` to compute the norm only along a specific dimension (the result will have the same shape as `x`, but without the specified dimension) https://docs.scipy.org/doc/numpy/reference/generated/numpy.linalg.norm.html<br>\n",
    "`np.sum(a)` : returns the sum of all the elements of array `a`. You can specify a keyword argument `axis` to compute the sum only along a specific dimension (the result will have the same shape as `a`, but without the specified dimension) https://docs.scipy.org/doc/numpy/reference/generated/numpy.sum.html<br>\n",
    "`np.mean(a)` : returns the mean value of all the elements of array `a`. You can specify a keyword argument `axis` to compute the mean only along a specific dimension (the result will have the same shape as `a`, but without the specified dimension) https://docs.scipy.org/doc/numpy/reference/generated/numpy.mean.html<br>\n",
    "\n",
    "Matrix operations:<br>\n",
    "`np.linalg.inv(a)` : returns the multiplicative inverse of matrix `a`. https://docs.scipy.org/doc/numpy/reference/generated/numpy.linalg.inv.html<br>\n",
    "`np.matmul(a, b)` : returns the matrix multiplication of `a` multiplied by `b`. Alias `a @ b`. https://docs.scipy.org/doc/numpy/reference/generated/numpy.matmul.html<br>\n",
    "\n",
    "Image operations:<br>\n",
    "`scipy.ndimage.convolve(input, weights)`: returns the convolution of `input` image using the `weights` image as kernel. https://docs.scipy.org/doc/scipy-0.16.1/reference/generated/scipy.ndimage.filters.convolve.html<br>\n",
    "`scipy.ndimage.shift(input, shift)`: returns a copy of `input` image shifted by the translation vector `shift`. Argument `shift` is in pixels, it can be not integer, in which case the result is interpolated. https://docs.scipy.org/doc/scipy/reference/generated/scipy.ndimage.shift.html<br>\n",
    "`scipy.ndimage.label(input, structure)`: Segment the connected components in `input` image, considering all zero-values as separation elements. The `structure` parameter is a central-symmetric array with ones and zeros that defines when two parts are to be considered connected or not (i.e. component_1 is connected with component_2 if we can center the `structure` array on a pixel in component_1 and have at least a one in `structure` to overlap with a pixel in component_2). This function returns both the segmented image, assigning to each pixel an integer identifying its own connected component label, and the number of distinct connected components found. https://docs.scipy.org/doc/scipy/reference/generated/scipy.ndimage.label.html<br>\n",
    "\n",
    "Boolean array operations:<br>\n",
    "`np.logical_and(x1, x2)`: where `x1` and `x2` are arrays of boolean values with matching or broadcastable shape, it returns the element-wise logical and operation between `x1` and `x2`. https://docs.scipy.org/doc/numpy/reference/generated/numpy.logical_and.html<br>\n",
    "`np.isin(element, test_elements)`: for each element in array `element` check whether it is contained into the array-like `test_elements`, and returns an array of boolean values of the same shape as `element`. Warning: with non-sequence `test_elements` like python sets, it produces incorrect results without throwing any exception. https://docs.scipy.org/doc/numpy/reference/generated/numpy.isin.html<br>\n",
    "\n",
    "Miscellaneous:<br>\n",
    "`np.around(a, decimals)`: rounds a floating-point array `a` to the specified number of `decimals` (zero decimals by default). Returns again a floating point array. https://docs.scipy.org/doc/numpy/reference/generated/numpy.around.html<br>\n",
    "`np.max(x1, x2)`: where `x1` and `x2` are arrays with matching or broadcastable shape, it returns the element-wise maximum into an array with the same (or broadcasted) shape as the inputs. https://docs.scipy.org/doc/numpy/reference/generated/numpy.maximum.html<br>\n",
    "`np.pi`: the usual constant for the ratio between circumference and diameter of a circle. https://docs.scipy.org/doc/numpy/reference/constants.html#numpy.pi<br>\n",
    "`np.arctan2(x1, x2)`: element-wise arctan of `x1/x2` choosing the quadrant correctly. Values returned are in the range `[-pi, pi]`. https://docs.scipy.org/doc/numpy/reference/generated/numpy.arctan2.html<br>"
   ]
  },
  {
   "cell_type": "markdown",
   "metadata": {},
   "source": [
    "## EXERCISE 1 - SETUP CODE"
   ]
  },
  {
   "cell_type": "markdown",
   "metadata": {},
   "source": [
    "The following cell installs required packages into the virtual machine that will run your code"
   ]
  },
  {
   "cell_type": "code",
   "execution_count": null,
   "metadata": {},
   "outputs": [],
   "source": [
    "!pip install scipy\n",
    "!pip install scikit-image\n",
    "!pip install matplotlib"
   ]
  },
  {
   "cell_type": "markdown",
   "metadata": {},
   "source": [
    "Import packages to read videos, make interactive widgets and plot images."
   ]
  },
  {
   "cell_type": "code",
   "execution_count": null,
   "metadata": {},
   "outputs": [],
   "source": [
    "from skimage.io import imread\n",
    "from scipy.ndimage import convolve, shift, label\n",
    "from matplotlib.pyplot import imshow\n",
    "from ipywidgets import interactive\n",
    "from IPython.display import display\n",
    "import matplotlib as mpl\n",
    "import numpy as np\n",
    "\n",
    "mpl.rc('image', cmap='gray')  # tell matplotlib to use gray shades for grayscale images"
   ]
  },
  {
   "cell_type": "markdown",
   "metadata": {},
   "source": [
    "Reading the test image lighthouse.png in `test_im`."
   ]
  },
  {
   "cell_type": "code",
   "execution_count": null,
   "metadata": {},
   "outputs": [],
   "source": [
    "test_im = np.array(imread(\"lighthouse.png\"), dtype=np.float)/255  # This time the image is floating point 0.0 to 1.0!\n",
    "height, width = test_im.shape\n",
    "print(\"Test image shape: \", test_im.shape)  # and it is grayscale\n",
    "imshow(test_im)"
   ]
  },
  {
   "cell_type": "markdown",
   "metadata": {},
   "source": [
    "Before starting, here is a function that creates a gaussian filter for you: you might find it handy later."
   ]
  },
  {
   "cell_type": "code",
   "execution_count": null,
   "metadata": {},
   "outputs": [],
   "source": [
    "def gaussian_filter(size, sigma):\n",
    "    x, y = np.mgrid[-size//2 + 1:size//2 + 1, -size//2 + 1:size//2 + 1]\n",
    "    g = np.exp(-((x**2 + y**2)/(2.0*sigma**2)))\n",
    "    return g/g.sum()\n",
    "\n",
    "slider = interactive(lambda size, sigma: imshow(gaussian_filter(size, sigma)), {'manual': True, 'manual_name': 'Update image'}, size=(1, 49, 2), sigma=(0.1, 20, 0.1))\n",
    "slider.children[0].value = 9\n",
    "slider.children[1].value = 2\n",
    "display(slider)"
   ]
  },
  {
   "cell_type": "markdown",
   "metadata": {},
   "source": [
    "## EXERCISE 1 - PUT SOLUTION HERE"
   ]
  },
  {
   "cell_type": "code",
   "execution_count": null,
   "metadata": {},
   "outputs": [],
   "source": [
    "def thresholded_edge_detection(k_x, sqr_threshold=0.05):\n",
    "    assert(k_x.ndim == 2)\n",
    "    k_y = k_x.T\n",
    "    g_x = convolve(test_im, k_x)\n",
    "    g_y = convolve(test_im, k_y)\n",
    "    grad_sqr_mag = g_x**2 + g_y**2\n",
    "    edges = np.zeros_like(test_im)\n",
    "    edges[grad_sqr_mag > sqr_threshold] = 1.\n",
    "    return edges"
   ]
  },
  {
   "cell_type": "code",
   "execution_count": null,
   "metadata": {},
   "outputs": [],
   "source": [
    "basic_k_x = np.array([[-1, 1]])\n",
    "\n",
    "\n",
    "imshow(thresholded_edge_detection(basic_k_x, sqr_threshold=0.17**2))"
   ]
  },
  {
   "cell_type": "code",
   "execution_count": null,
   "metadata": {},
   "outputs": [],
   "source": [
    "prewitt_k_x = np.array([[1, 0, -1], \n",
    "                        [1, 0, -1], \n",
    "                        [1, 0, -1]])\n",
    "\n",
    "imshow(thresholded_edge_detection(prewitt_k_x, sqr_threshold=0.6**2))"
   ]
  },
  {
   "cell_type": "code",
   "execution_count": null,
   "metadata": {},
   "outputs": [],
   "source": [
    "sobel_k_x = np.array([[1, 0, -1], \n",
    "                      [2, 0, -2], \n",
    "                      [1, 0, -1]])\n",
    "\n",
    "imshow(thresholded_edge_detection(sobel_k_x, sqr_threshold=0.8**2))"
   ]
  },
  {
   "cell_type": "code",
   "execution_count": null,
   "metadata": {},
   "outputs": [],
   "source": [
    "gauss_k_x = convolve(gaussian_filter(5, 1), np.array([[1, -1]]).T)\n",
    "\n",
    "\n",
    "imshow(thresholded_edge_detection(gauss_k_x, sqr_threshold=0.045**2))"
   ]
  },
  {
   "cell_type": "markdown",
   "metadata": {},
   "source": [
    "## EXERCISE 2 - PUT SOLUTION HERE"
   ]
  },
  {
   "cell_type": "code",
   "execution_count": null,
   "metadata": {},
   "outputs": [],
   "source": [
    "g_filter = gaussian_filter(9, 1.4)\n",
    "canny_k_x = convolve(g_filter, np.array([[1, 0, -1]]).T)\n",
    "canny_k_y = convolve(g_filter, np.array([[1, 0, -1]]))\n",
    "\n",
    "imshow(canny_k_x)"
   ]
  },
  {
   "cell_type": "code",
   "execution_count": null,
   "metadata": {},
   "outputs": [],
   "source": [
    "imshow(thresholded_edge_detection(canny_k_x, sqr_threshold=0.08**2))"
   ]
  },
  {
   "cell_type": "code",
   "execution_count": null,
   "metadata": {},
   "outputs": [],
   "source": [
    "g_x = convolve(test_im, canny_k_x)\n",
    "g_y = convolve(test_im, canny_k_y)\n",
    "\n",
    "grad_mag = np.sqrt(g_x**2 + g_y**2)\n",
    "\n",
    "imshow(grad_mag)"
   ]
  },
  {
   "cell_type": "code",
   "execution_count": null,
   "metadata": {},
   "outputs": [],
   "source": [
    "grad_dir = np.arctan2(g_y, g_x)  # gradient direction in [-pi, pi]\n",
    "grad_dir_0_to_8 = 4*(grad_dir/np.pi + 1)  # gradient direction in [0, 8]"
   ]
  },
  {
   "cell_type": "markdown",
   "metadata": {},
   "source": [
    "![alt text](C1.png \"Circle 1\")"
   ]
  },
  {
   "cell_type": "code",
   "execution_count": null,
   "metadata": {},
   "outputs": [],
   "source": [
    "quantized_grad_dir = np.array(np.around(grad_dir_0_to_8), dtype=np.uint8)  # map range linearly from [-pi, pi] to [0, 8], then round and make integer index"
   ]
  },
  {
   "cell_type": "markdown",
   "metadata": {},
   "source": [
    "![alt text](C2.png \"Circle 2\")"
   ]
  },
  {
   "cell_type": "code",
   "execution_count": null,
   "metadata": {},
   "outputs": [],
   "source": [
    "quantized_grad_dir[quantized_grad_dir == 8] = 0  # both 0 and 3 indicate the same direction (towards negative x) with small y, they belong to the same direction category for us"
   ]
  },
  {
   "cell_type": "markdown",
   "metadata": {},
   "source": [
    "![alt text](C3.png \"Circle 3\")"
   ]
  },
  {
   "cell_type": "code",
   "execution_count": null,
   "metadata": {},
   "outputs": [],
   "source": [
    "quantized_grad_dir[quantized_grad_dir > 3] -= 4  # we are interested into the direction, not the side: just merge together the same directions on different sides"
   ]
  },
  {
   "cell_type": "markdown",
   "metadata": {},
   "source": [
    "![alt text](C4.png \"Circle 4\")"
   ]
  },
  {
   "cell_type": "code",
   "execution_count": null,
   "metadata": {},
   "outputs": [],
   "source": [
    "# 0: horizontal gradient           (--)\n",
    "# 1: primary diagonal gradient     (//)\n",
    "# 2: vertical gradient             (||)\n",
    "# 3: secondary diagonal gradient   (\\\\)\n",
    "\n",
    "imshow(quantized_grad_dir)\n",
    "\n",
    "comparative_grad_images = np.empty(shape=(4, height, width))\n",
    "comparative_grad_images[0] = np.maximum(shift(grad_mag, (2, 0)), shift(grad_mag, (-2, 0)))\n",
    "comparative_grad_images[1] = np.maximum(shift(grad_mag, (2, 2)), shift(grad_mag, (-2, -2)))\n",
    "comparative_grad_images[2] = np.maximum(shift(grad_mag, (0, 2)), shift(grad_mag, (0, -2)))\n",
    "comparative_grad_images[3] = np.maximum(shift(grad_mag, (2, -2)), shift(grad_mag, (-2, 2)))"
   ]
  },
  {
   "cell_type": "code",
   "execution_count": null,
   "metadata": {},
   "outputs": [],
   "source": [
    "non_maximum_suppressed = np.array(grad_mag)\n",
    "for i in range(4):\n",
    "    non_maximum_suppressed[np.logical_and(quantized_grad_dir == i, grad_mag < comparative_grad_images[i])] = 0\n",
    "\n",
    "imshow(non_maximum_suppressed)"
   ]
  },
  {
   "cell_type": "code",
   "execution_count": null,
   "metadata": {},
   "outputs": [],
   "source": [
    "def canny_img(t_high, t_low):\n",
    "    low_img = np.zeros(shape=grad_mag.shape, dtype=np.int16)\n",
    "    canny_img = np.zeros(shape=grad_mag.shape, dtype=np.int16)\n",
    "\n",
    "    low_img[non_maximum_suppressed > t_low] = 1\n",
    "\n",
    "    labelled_low_img, numlabels = label(low_img, structure=np.ones(shape=(3, 3)))\n",
    "\n",
    "    canny_img[np.isin(labelled_low_img, list(set(labelled_low_img[non_maximum_suppressed > t_high])))] = 1\n",
    "    \n",
    "    return canny_img\n",
    "    \n",
    "imshow(canny_img(0.1, 0.03))"
   ]
  },
  {
   "cell_type": "code",
   "execution_count": null,
   "metadata": {},
   "outputs": [],
   "source": [
    "def perform_all_canny(gauss_size, gauss_sigma, shift_offset, t_high, t_low):\n",
    "    g_filter = gaussian_filter(gauss_size, gauss_sigma)\n",
    "    canny_k_x = convolve(g_filter, np.array([[1, 0, -1]]).T)\n",
    "    canny_k_y = convolve(g_filter, np.array([[1, 0, -1]]))\n",
    "    \n",
    "    g_x = convolve(test_im, canny_k_x)\n",
    "    g_y = convolve(test_im, canny_k_y)\n",
    "\n",
    "    grad_mag = np.sqrt(g_x**2 + g_y**2)\n",
    "    \n",
    "    grad_dir = np.arctan2(g_y, g_x)  # gradient direction in [-pi, pi]\n",
    "\n",
    "    quantized_grad_dir = np.array(np.around(4*(grad_dir/np.pi + 1)), dtype=np.uint8)  # map range linearly from [-pi, pi] to [0, 8], then round and make integer index\n",
    "    quantized_grad_dir[quantized_grad_dir == 8] = 0  # both 0 and 8 indicate the same direction (towards negative x) with small y, they belong to the same direction category for us\n",
    "    quantized_grad_dir[quantized_grad_dir > 3] -= 4  # we are interested into the direction, not the side: just merge together the same directions on different sides\n",
    "\n",
    "    # 0: horizontal gradient           (--)\n",
    "    # 1: primary diagonal gradient     (//)\n",
    "    # 2: vertical gradient             (||)\n",
    "    # 3: secondary diagonal gradient   (\\\\)\n",
    "\n",
    "    imshow(quantized_grad_dir)\n",
    "\n",
    "    comparative_grad_images = np.empty(shape=(4, height, width))\n",
    "    comparative_grad_images[0] = np.maximum(shift(grad_mag, (shift_offset, 0)), shift(grad_mag, (-shift_offset, 0)))\n",
    "    comparative_grad_images[1] = np.maximum(shift(grad_mag, (shift_offset, shift_offset)), shift(grad_mag, (-shift_offset, -shift_offset)))\n",
    "    comparative_grad_images[2] = np.maximum(shift(grad_mag, (0, shift_offset)), shift(grad_mag, (0, -shift_offset)))\n",
    "    comparative_grad_images[3] = np.maximum(shift(grad_mag, (shift_offset, -shift_offset)), shift(grad_mag, (-shift_offset, shift_offset)))\n",
    "    \n",
    "    non_maximum_suppressed = np.array(grad_mag)\n",
    "    for i in range(4):\n",
    "        non_maximum_suppressed[np.logical_and(quantized_grad_dir == i, grad_mag < comparative_grad_images[i])] = 0\n",
    "\n",
    "    low_img = np.zeros(shape=grad_mag.shape, dtype=np.int16)\n",
    "    canny_img = np.zeros(shape=grad_mag.shape, dtype=np.int16)\n",
    "\n",
    "    low_img[non_maximum_suppressed > t_low] = 1\n",
    "\n",
    "    labelled_low_img, numlabels = label(low_img, structure=np.ones(shape=(3, 3)))\n",
    "\n",
    "    canny_img[np.isin(labelled_low_img, list(set(labelled_low_img[non_maximum_suppressed > t_high])))] = 1\n",
    "    \n",
    "    return canny_img\n",
    "    \n",
    "slider = interactive(lambda gsz, gsg, so, th, tl: imshow(perform_all_canny(gsz, gsg, so, th, tl)), {'manual': True, 'manual_name': 'Update image'}, gsz=(1, 49, 2), gsg=(0.1, 20, 0.1), so=(0, 5, 0.2), th=(0, 0.4, 0.01), tl=(0, 0.4, 0.01))\n",
    "slider.children[0].value = 9\n",
    "slider.children[1].value = 1.4\n",
    "slider.children[2].value = 2\n",
    "slider.children[3].value = 0.10\n",
    "slider.children[4].value = 0.03\n",
    "\n",
    "display(slider)"
   ]
  },
  {
   "cell_type": "markdown",
   "metadata": {},
   "source": [
    "## SAMPLE EXAM QUESTION\n",
    "\n",
    "![alt text](Q1.png \"Question 1\")\n",
    "\n",
    "![alt text](Q2.png \"Question 2\")\n",
    "\n",
    "![alt text](F2.png \"Figure 4\")"
   ]
  },
  {
   "cell_type": "markdown",
   "metadata": {},
   "source": [
    "## ANSWERS\n",
    "\n",
    "### Question 1\n",
    "![alt text](A1.png \"Answer 1\")\n",
    "\n",
    "### Question 2\n",
    "![alt text](A2.png \"Answer 2\")"
   ]
  },
  {
   "cell_type": "markdown",
   "metadata": {},
   "source": [
    "## Contact\n",
    "\n",
    "I just include my contact here in case you are solving this from home and you want to ask a question!\n",
    "\n",
    "Name: Luca Cavalli<br>\n",
    "E-mail: luca.cavalli@inf.ethz.ch<br>\n",
    "\n",
    "If your question is very much code-related, I suggest you to make your notebook public and link it to me in your question, so that I can work it out better!"
   ]
  }
 ],
 "metadata": {
  "kernelspec": {
   "display_name": "Python 3",
   "language": "python",
   "name": "python3"
  },
  "language_info": {
   "codemirror_mode": {
    "name": "ipython",
    "version": 3
   },
   "file_extension": ".py",
   "mimetype": "text/x-python",
   "name": "python",
   "nbconvert_exporter": "python",
   "pygments_lexer": "ipython3",
   "version": "3.7.7"
  }
 },
 "nbformat": 4,
 "nbformat_minor": 4
}
